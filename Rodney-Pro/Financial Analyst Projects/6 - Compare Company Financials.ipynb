{
 "cells": [
  {
   "cell_type": "markdown",
   "id": "43504311",
   "metadata": {},
   "source": [
    "# Comparison Operators"
   ]
  },
  {
   "cell_type": "code",
   "execution_count": 1,
   "id": "5bd89f68",
   "metadata": {},
   "outputs": [],
   "source": [
    "revenue_A = 2500\n",
    "revenue_B = 2500"
   ]
  },
  {
   "cell_type": "code",
   "execution_count": 2,
   "id": "dcfb3d8f",
   "metadata": {},
   "outputs": [
    {
     "name": "stdout",
     "output_type": "stream",
     "text": [
      "True\n"
     ]
    }
   ],
   "source": [
    "#Compare revenue for company A to B\n",
    "print(revenue_A == revenue_B)"
   ]
  },
  {
   "cell_type": "code",
   "execution_count": 3,
   "id": "2647e160",
   "metadata": {},
   "outputs": [
    {
     "data": {
      "text/plain": [
       "False"
      ]
     },
     "execution_count": 3,
     "metadata": {},
     "output_type": "execute_result"
    }
   ],
   "source": [
    "#Use the greater than or equal to operator '>='\n",
    "revenue_A = 2500\n",
    "revenue_B = 3700\n",
    "revenue_A >= revenue_B"
   ]
  },
  {
   "cell_type": "code",
   "execution_count": 4,
   "id": "47a790db",
   "metadata": {},
   "outputs": [
    {
     "data": {
      "text/plain": [
       "True"
      ]
     },
     "execution_count": 4,
     "metadata": {},
     "output_type": "execute_result"
    }
   ],
   "source": [
    "#Use the not equal to comparison operator\n",
    "revenue_A = 2500\n",
    "revenue_B = 3700\n",
    "revenue_A != revenue_B"
   ]
  },
  {
   "cell_type": "code",
   "execution_count": null,
   "id": "b4b2e657",
   "metadata": {},
   "outputs": [],
   "source": []
  }
 ],
 "metadata": {
  "kernelspec": {
   "display_name": "saturn (Python 3)",
   "language": "python",
   "name": "python3"
  },
  "language_info": {
   "codemirror_mode": {
    "name": "ipython",
    "version": 3
   },
   "file_extension": ".py",
   "mimetype": "text/x-python",
   "name": "python",
   "nbconvert_exporter": "python",
   "pygments_lexer": "ipython3",
   "version": "3.9.14"
  }
 },
 "nbformat": 4,
 "nbformat_minor": 5
}
