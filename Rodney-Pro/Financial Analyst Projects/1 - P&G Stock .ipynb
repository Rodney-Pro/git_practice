{
 "cells": [
  {
   "cell_type": "markdown",
   "id": "b8ad144a",
   "metadata": {},
   "source": [
    "# Set Up Example"
   ]
  },
  {
   "cell_type": "code",
   "execution_count": 12,
   "id": "f2187556",
   "metadata": {},
   "outputs": [
    {
     "data": {
      "text/plain": [
       "'Apple'"
      ]
     },
     "execution_count": 12,
     "metadata": {},
     "output_type": "execute_result"
    }
   ],
   "source": [
    "#Assign Apple to a variable \n",
    "company_name = 'Apple'\n",
    "company_name"
   ]
  },
  {
   "cell_type": "code",
   "execution_count": 13,
   "id": "8f93c7fc",
   "metadata": {},
   "outputs": [
    {
     "data": {
      "text/plain": [
       "str"
      ]
     },
     "execution_count": 13,
     "metadata": {},
     "output_type": "execute_result"
    }
   ],
   "source": [
    "#Check data type of variable company_name\n",
    "type(company_name)"
   ]
  },
  {
   "cell_type": "code",
   "execution_count": 4,
   "id": "f9bf504a",
   "metadata": {},
   "outputs": [],
   "source": [
    "#Assign revenue value to a variable\n",
    "revenue = 394.32"
   ]
  },
  {
   "cell_type": "code",
   "execution_count": 6,
   "id": "a456531d",
   "metadata": {},
   "outputs": [],
   "source": [
    "#Assign number of employees to a variable\n",
    "num_employee = 154000"
   ]
  },
  {
   "cell_type": "code",
   "execution_count": 7,
   "id": "9f05f6a0",
   "metadata": {},
   "outputs": [],
   "source": [
    "#Assign boolean value to dividend variable\n",
    "pays_dividend = True"
   ]
  },
  {
   "cell_type": "markdown",
   "id": "178183ab",
   "metadata": {},
   "source": [
    "# P & G Stock "
   ]
  },
  {
   "cell_type": "code",
   "execution_count": 15,
   "id": "6b4deb5c",
   "metadata": {},
   "outputs": [
    {
     "data": {
      "text/plain": [
       "5000"
      ]
     },
     "execution_count": 15,
     "metadata": {},
     "output_type": "execute_result"
    }
   ],
   "source": [
    "#Create account variable with a balance of $5000\n",
    "balance = 5000\n",
    "balance"
   ]
  },
  {
   "cell_type": "code",
   "execution_count": 16,
   "id": "50646c84",
   "metadata": {},
   "outputs": [
    {
     "data": {
      "text/plain": [
       "int"
      ]
     },
     "execution_count": 16,
     "metadata": {},
     "output_type": "execute_result"
    }
   ],
   "source": [
    "type(balance)"
   ]
  },
  {
   "cell_type": "code",
   "execution_count": 17,
   "id": "834c201f",
   "metadata": {},
   "outputs": [
    {
     "data": {
      "text/plain": [
       "165.99"
      ]
     },
     "execution_count": 17,
     "metadata": {},
     "output_type": "execute_result"
    }
   ],
   "source": [
    "#Assign value to P&G stock price\n",
    "price = 165.99\n",
    "price"
   ]
  },
  {
   "cell_type": "code",
   "execution_count": 18,
   "id": "9549a1b2",
   "metadata": {},
   "outputs": [
    {
     "data": {
      "text/plain": [
       "float"
      ]
     },
     "execution_count": 18,
     "metadata": {},
     "output_type": "execute_result"
    }
   ],
   "source": [
    "type(price)"
   ]
  },
  {
   "cell_type": "code",
   "execution_count": 21,
   "id": "66326c07",
   "metadata": {},
   "outputs": [
    {
     "data": {
      "text/plain": [
       "30.12229652388698"
      ]
     },
     "execution_count": 21,
     "metadata": {},
     "output_type": "execute_result"
    }
   ],
   "source": [
    "# Calculate how many shares can be bought with available balance\n",
    "num_shares = balance / price\n",
    "num_shares"
   ]
  },
  {
   "cell_type": "code",
   "execution_count": 22,
   "id": "b2f882ca",
   "metadata": {},
   "outputs": [
    {
     "data": {
      "text/plain": [
       "30"
      ]
     },
     "execution_count": 22,
     "metadata": {},
     "output_type": "execute_result"
    }
   ],
   "source": [
    "#Round number of shares to nearest integer value\n",
    "round(num_shares)"
   ]
  },
  {
   "cell_type": "code",
   "execution_count": null,
   "id": "e3b29e11",
   "metadata": {},
   "outputs": [],
   "source": []
  }
 ],
 "metadata": {
  "kernelspec": {
   "display_name": "Python 3 (ipykernel)",
   "language": "python",
   "name": "python3"
  },
  "language_info": {
   "codemirror_mode": {
    "name": "ipython",
    "version": 3
   },
   "file_extension": ".py",
   "mimetype": "text/x-python",
   "name": "python",
   "nbconvert_exporter": "python",
   "pygments_lexer": "ipython3",
   "version": "3.11.5"
  }
 },
 "nbformat": 4,
 "nbformat_minor": 5
}
