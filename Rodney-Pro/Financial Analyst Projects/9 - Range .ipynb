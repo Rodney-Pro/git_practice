{
 "cells": [
  {
   "cell_type": "markdown",
   "id": "e7b48f63",
   "metadata": {},
   "source": [
    "# Range Function"
   ]
  },
  {
   "cell_type": "code",
   "execution_count": 2,
   "id": "152f96b1",
   "metadata": {},
   "outputs": [
    {
     "name": "stdout",
     "output_type": "stream",
     "text": [
      "0\n",
      "1\n",
      "2\n",
      "3\n",
      "4\n"
     ]
    }
   ],
   "source": [
    "#Use the range function in a for loop to iterate through the first five elements\n",
    "for i in range(0,5):\n",
    "    print(i)"
   ]
  },
  {
   "cell_type": "code",
   "execution_count": 3,
   "id": "c260fa94",
   "metadata": {},
   "outputs": [
    {
     "name": "stdout",
     "output_type": "stream",
     "text": [
      "0\n",
      "1\n",
      "2\n",
      "3\n",
      "4\n"
     ]
    }
   ],
   "source": [
    "#Use the range function with only one parameter\n",
    "for i in range(5):\n",
    "    print(i)"
   ]
  },
  {
   "cell_type": "code",
   "execution_count": 4,
   "id": "154bb6f6",
   "metadata": {},
   "outputs": [
    {
     "name": "stdout",
     "output_type": "stream",
     "text": [
      "1\n",
      "3\n"
     ]
    }
   ],
   "source": [
    "#Use the range function with a step size parameter\n",
    "for i in range(1,5,2):\n",
    "    print(i)"
   ]
  },
  {
   "cell_type": "markdown",
   "id": "1c5f2ae5",
   "metadata": {},
   "source": [
    "# Company Financials"
   ]
  },
  {
   "cell_type": "code",
   "execution_count": 5,
   "id": "1795b33f",
   "metadata": {},
   "outputs": [],
   "source": [
    "#Define two lists - one list containes company names and the other list contains corresponding revenue values\n",
    "company_names = ['Apple', 'Facebook', 'Alphabet', 'PwC']\n",
    "company_revenues = [5000000,10000000,15000000,20000000]"
   ]
  },
  {
   "cell_type": "code",
   "execution_count": 6,
   "id": "3776028a",
   "metadata": {},
   "outputs": [
    {
     "name": "stdout",
     "output_type": "stream",
     "text": [
      "The revenue of Apple is: $5000000\n"
     ]
    }
   ],
   "source": [
    "#Print out the first company name along with its corresponding revenue\n",
    "print(\"The revenue of {} is: ${}\".format(company_names[0],company_revenues[0]))"
   ]
  },
  {
   "cell_type": "code",
   "execution_count": 7,
   "id": "55d4ff3d",
   "metadata": {},
   "outputs": [
    {
     "name": "stdout",
     "output_type": "stream",
     "text": [
      "4\n"
     ]
    }
   ],
   "source": [
    "#Use the len function to determine the range of the list in order to use the range function\n",
    "print(len(company_names))"
   ]
  },
  {
   "cell_type": "code",
   "execution_count": 9,
   "id": "4fd89ffc",
   "metadata": {},
   "outputs": [
    {
     "name": "stdout",
     "output_type": "stream",
     "text": [
      "index = 0\n",
      "The revenue of Apple is: $5000000\n",
      "index = 2\n",
      "The revenue of Alphabet is: $15000000\n"
     ]
    }
   ],
   "source": [
    "for i in range (0,len(company_names),2):\n",
    "    print(\"index = {}\".format(i))\n",
    "    print(\"The revenue of {} is: ${}\".format(company_names[i],company_revenues[i]))"
   ]
  },
  {
   "cell_type": "markdown",
   "id": "8b91b382",
   "metadata": {},
   "source": [
    "# Reverse"
   ]
  },
  {
   "cell_type": "code",
   "execution_count": 21,
   "id": "c20be75c",
   "metadata": {},
   "outputs": [],
   "source": [
    "#Define two lists - one with stock names and the other with stock prices\n",
    "stock_names = ['Apple', 'Samsung', 'Alibaba', 'Novo Nordisk', 'Naspers']\n",
    "stock_prices = [142, 45, 12, 125, 30]"
   ]
  },
  {
   "cell_type": "code",
   "execution_count": 22,
   "id": "ad7c1a9c",
   "metadata": {},
   "outputs": [
    {
     "name": "stdout",
     "output_type": "stream",
     "text": [
      "5\n"
     ]
    }
   ],
   "source": [
    "#Obtain the total number of elements in the stock names list\n",
    "print(len(stock_names))"
   ]
  },
  {
   "cell_type": "code",
   "execution_count": 23,
   "id": "eec47417",
   "metadata": {},
   "outputs": [
    {
     "name": "stdout",
     "output_type": "stream",
     "text": [
      "Naspers: $30.00\n",
      "Novo Nordisk: $125.00\n",
      "Alibaba: $12.00\n",
      "Samsung: $45.00\n",
      "Apple: $142.00\n"
     ]
    }
   ],
   "source": [
    "#Print out stock names along with their corresponding prices in reverse order\n",
    "for i in range(len(stock_names) - 1, -1, -1):\n",
    "    print(f\"{stock_names[i]}: ${stock_prices[i]:.2f}\")"
   ]
  },
  {
   "cell_type": "code",
   "execution_count": 24,
   "id": "2203509f",
   "metadata": {},
   "outputs": [
    {
     "name": "stdout",
     "output_type": "stream",
     "text": [
      "index value 4\n",
      "Naspers: $30.00\n",
      "index value 2\n",
      "Alibaba: $12.00\n",
      "index value 0\n",
      "Apple: $142.00\n"
     ]
    }
   ],
   "source": [
    "#Print out stock names along with their corresponding prices in reverse order\n",
    "for i in range(len(stock_names) - 1, -1, -2):\n",
    "    print(\"index value {}\".format(i))\n",
    "    print(f\"{stock_names[i]}: ${stock_prices[i]:.2f}\")"
   ]
  },
  {
   "cell_type": "markdown",
   "id": "6b328458",
   "metadata": {},
   "source": [
    "# Alternative Reversal Method"
   ]
  },
  {
   "cell_type": "code",
   "execution_count": 26,
   "id": "48aac431",
   "metadata": {},
   "outputs": [
    {
     "name": "stdout",
     "output_type": "stream",
     "text": [
      "index = 4\n",
      "The price of Naspers stock = $30\n",
      "index = 3\n",
      "The price of Novo Nordisk stock = $125\n",
      "index = 2\n",
      "The price of Alibaba stock = $12\n",
      "index = 1\n",
      "The price of Samsung stock = $45\n",
      "index = 0\n",
      "The price of Apple stock = $142\n"
     ]
    }
   ],
   "source": [
    "#Print out stock names along with their corresponding prices in reverse order\n",
    "for i in reversed(range(len(stock_names))):\n",
    "    print('index = {}'.format(i))\n",
    "    print('The price of {} stock = ${}'.format(stock_names[i], stock_prices[i]))\n",
    "    "
   ]
  },
  {
   "cell_type": "code",
   "execution_count": 27,
   "id": "5914d20d",
   "metadata": {},
   "outputs": [
    {
     "name": "stdout",
     "output_type": "stream",
     "text": [
      "index = 4\n",
      "The price of Naspers stock = $30\n",
      "index = 2\n",
      "The price of Alibaba stock = $12\n",
      "index = 0\n",
      "The price of Apple stock = $142\n"
     ]
    }
   ],
   "source": [
    "for i in reversed(range(0, len(stock_names), 2)):\n",
    "    print('index = {}'.format(i))\n",
    "    print('The price of {} stock = ${}'.format(stock_names[i], stock_prices[i]))"
   ]
  },
  {
   "cell_type": "code",
   "execution_count": null,
   "id": "1f48220a",
   "metadata": {},
   "outputs": [],
   "source": []
  }
 ],
 "metadata": {
  "kernelspec": {
   "display_name": "saturn (Python 3)",
   "language": "python",
   "name": "python3"
  },
  "language_info": {
   "codemirror_mode": {
    "name": "ipython",
    "version": 3
   },
   "file_extension": ".py",
   "mimetype": "text/x-python",
   "name": "python",
   "nbconvert_exporter": "python",
   "pygments_lexer": "ipython3",
   "version": "3.9.14"
  }
 },
 "nbformat": 4,
 "nbformat_minor": 5
}
