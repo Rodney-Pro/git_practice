{
 "cells": [
  {
   "cell_type": "markdown",
   "id": "eeb84edf",
   "metadata": {},
   "source": [
    "## Print P&G message"
   ]
  },
  {
   "cell_type": "code",
   "execution_count": 3,
   "id": "fcdf5bc9",
   "metadata": {},
   "outputs": [
    {
     "name": "stdout",
     "output_type": "stream",
     "text": [
      "Proctor and Gamble (P&G), which provides reporting using US GAAP, sold a piece of land for $500,000.00\n"
     ]
    }
   ],
   "source": [
    "#Print a message directly to the screen\n",
    "print(\"Proctor and Gamble (P&G), which provides reporting using US GAAP, sold a piece of land for $500,000.00\")"
   ]
  },
  {
   "cell_type": "code",
   "execution_count": 9,
   "id": "6169c976",
   "metadata": {},
   "outputs": [
    {
     "data": {
      "text/plain": [
       "'Proctor and Gamble (P&G), which provides reporting using US GAAP, sold a piece of land for $500,000.00'"
      ]
     },
     "execution_count": 9,
     "metadata": {},
     "output_type": "execute_result"
    }
   ],
   "source": [
    "#Print a message to the screen using a variable\n",
    "message = 'Proctor and Gamble (P&G), which provides reporting using US GAAP, sold a piece of land for $500,000.00'\n",
    "message"
   ]
  },
  {
   "cell_type": "code",
   "execution_count": 8,
   "id": "e5996837",
   "metadata": {},
   "outputs": [
    {
     "name": "stdout",
     "output_type": "stream",
     "text": [
      "Proctor and Gamble's current stock price is $165.99 in 2025\n"
     ]
    }
   ],
   "source": [
    "PG_price = 165.99\n",
    "year = 2025\n",
    "print(\"Proctor and Gamble's current stock price is ${} in {}\".format(PG_price, year))"
   ]
  },
  {
   "cell_type": "code",
   "execution_count": null,
   "id": "12c4e7c0",
   "metadata": {},
   "outputs": [],
   "source": []
  }
 ],
 "metadata": {
  "kernelspec": {
   "display_name": "Python 3 (ipykernel)",
   "language": "python",
   "name": "python3"
  },
  "language_info": {
   "codemirror_mode": {
    "name": "ipython",
    "version": 3
   },
   "file_extension": ".py",
   "mimetype": "text/x-python",
   "name": "python",
   "nbconvert_exporter": "python",
   "pygments_lexer": "ipython3",
   "version": "3.11.5"
  }
 },
 "nbformat": 4,
 "nbformat_minor": 5
}
