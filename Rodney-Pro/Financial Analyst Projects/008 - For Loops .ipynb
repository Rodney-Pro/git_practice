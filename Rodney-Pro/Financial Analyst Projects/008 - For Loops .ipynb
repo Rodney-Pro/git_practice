{
 "cells": [
  {
   "cell_type": "markdown",
   "id": "c2a936dc",
   "metadata": {},
   "source": [
    "# Company Names"
   ]
  },
  {
   "cell_type": "code",
   "execution_count": 1,
   "id": "25ce838a",
   "metadata": {},
   "outputs": [
    {
     "data": {
      "text/plain": [
       "['Apple', 'Bombardier', 'Cisco', 'Deloitte']"
      ]
     },
     "execution_count": 1,
     "metadata": {},
     "output_type": "execute_result"
    }
   ],
   "source": [
    "company_names = ['Apple','Bombardier', 'Cisco', 'Deloitte']\n",
    "company_names"
   ]
  },
  {
   "cell_type": "code",
   "execution_count": 2,
   "id": "0afd85c4",
   "metadata": {},
   "outputs": [
    {
     "name": "stdout",
     "output_type": "stream",
     "text": [
      "Apple\n",
      "Bombardier\n",
      "Cisco\n",
      "Deloitte\n"
     ]
    }
   ],
   "source": [
    "for company in company_names:\n",
    "    print(company)"
   ]
  },
  {
   "cell_type": "code",
   "execution_count": 5,
   "id": "550f247e",
   "metadata": {},
   "outputs": [
    {
     "name": "stdout",
     "output_type": "stream",
     "text": [
      "Apple\n",
      "Bombardier\n",
      "Cisco\n",
      "Deloitte\n"
     ]
    }
   ],
   "source": [
    "#Print companies in list using an alternate method\n",
    "print(company_names[0])\n",
    "print(company_names[1])\n",
    "print(company_names[2])\n",
    "print(company_names[3])"
   ]
  },
  {
   "cell_type": "markdown",
   "id": "6e78d2c7",
   "metadata": {},
   "source": [
    "# Company Revenues"
   ]
  },
  {
   "cell_type": "code",
   "execution_count": 9,
   "id": "a0175574",
   "metadata": {},
   "outputs": [
    {
     "data": {
      "text/plain": [
       "3600000"
      ]
     },
     "execution_count": 9,
     "metadata": {},
     "output_type": "execute_result"
    }
   ],
   "source": [
    "#Loop through a list of company revenues and total them up\n",
    "company_revenues = [600000, 900000, 1000000, 1100000]\n",
    "\n",
    "total_revenue = 0\n",
    "\n",
    "for revenue in company_revenues:\n",
    "    total_revenue += revenue\n",
    "\n",
    "total_revenue"
   ]
  },
  {
   "cell_type": "code",
   "execution_count": 10,
   "id": "56b2e7b2",
   "metadata": {},
   "outputs": [
    {
     "data": {
      "text/plain": [
       "3600000"
      ]
     },
     "execution_count": 10,
     "metadata": {},
     "output_type": "execute_result"
    }
   ],
   "source": [
    "#Alternative method to total company revenues\n",
    "sum(company_revenues)"
   ]
  },
  {
   "cell_type": "markdown",
   "id": "f24ad9a5",
   "metadata": {},
   "source": [
    "# Company Message"
   ]
  },
  {
   "cell_type": "code",
   "execution_count": 11,
   "id": "1718fc85",
   "metadata": {},
   "outputs": [
    {
     "name": "stdout",
     "output_type": "stream",
     "text": [
      "W\n",
      "e\n",
      "l\n",
      "c\n",
      "o\n",
      "m\n",
      "e\n",
      " \n",
      "t\n",
      "o\n",
      " \n",
      "P\n",
      "y\n",
      "t\n",
      "h\n",
      "o\n",
      "n\n",
      " \n",
      "P\n",
      "r\n",
      "o\n",
      "g\n",
      "r\n",
      "a\n",
      "m\n",
      "m\n",
      "i\n",
      "n\n",
      "g\n"
     ]
    }
   ],
   "source": [
    "message = \"Welcome to Python Programming\"\n",
    "for character in message:\n",
    "    print(character)"
   ]
  },
  {
   "cell_type": "markdown",
   "id": "c561a14a",
   "metadata": {},
   "source": [
    "# Task Execution"
   ]
  },
  {
   "cell_type": "code",
   "execution_count": 12,
   "id": "136075bd",
   "metadata": {},
   "outputs": [],
   "source": [
    "#Define a list that contains interger values\n",
    "my_list = [10, 15, 20]"
   ]
  },
  {
   "cell_type": "code",
   "execution_count": 14,
   "id": "8a1fb5ce",
   "metadata": {},
   "outputs": [
    {
     "data": {
      "text/plain": [
       "3000"
      ]
     },
     "execution_count": 14,
     "metadata": {},
     "output_type": "execute_result"
    }
   ],
   "source": [
    "#Multiply all the elements in the list using a for loop\n",
    "product = 1\n",
    "for number in my_list:\n",
    "    product *= number\n",
    "product"
   ]
  },
  {
   "cell_type": "code",
   "execution_count": 17,
   "id": "7364c296",
   "metadata": {},
   "outputs": [
    {
     "name": "stdout",
     "output_type": "stream",
     "text": [
      "3000\n"
     ]
    }
   ],
   "source": [
    "#Checking the result of the previous loop using a different method\n",
    "import math\n",
    "result = math.prod(my_list)\n",
    "print(result)"
   ]
  },
  {
   "cell_type": "code",
   "execution_count": null,
   "id": "f9465a37",
   "metadata": {},
   "outputs": [],
   "source": []
  }
 ],
 "metadata": {
  "kernelspec": {
   "display_name": "saturn (Python 3)",
   "language": "python",
   "name": "python3"
  },
  "language_info": {
   "codemirror_mode": {
    "name": "ipython",
    "version": 3
   },
   "file_extension": ".py",
   "mimetype": "text/x-python",
   "name": "python",
   "nbconvert_exporter": "python",
   "pygments_lexer": "ipython3",
   "version": "3.9.14"
  }
 },
 "nbformat": 4,
 "nbformat_minor": 5
}
