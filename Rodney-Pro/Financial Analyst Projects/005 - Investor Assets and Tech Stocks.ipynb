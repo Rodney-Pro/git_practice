{
 "cells": [
  {
   "cell_type": "code",
   "execution_count": 1,
   "id": "bffe400b",
   "metadata": {},
   "outputs": [
    {
     "name": "stdout",
     "output_type": "stream",
     "text": [
      "{'Equity': 5000, 'Fixed Income': 1000, 'Derivatives': 300}\n"
     ]
    }
   ],
   "source": [
    "#Initialize dictionary for a hypothetical investor consisting of a collection of equity, fixed income, and alternative investments\n",
    "investor_assets = {\"Equity\": 5000, \"Fixed Income\": 1000, \"Derivatives\": 300} \n",
    "print(investor_assets)"
   ]
  },
  {
   "cell_type": "code",
   "execution_count": 2,
   "id": "e4d57dcf",
   "metadata": {},
   "outputs": [
    {
     "data": {
      "text/plain": [
       "dict"
      ]
     },
     "execution_count": 2,
     "metadata": {},
     "output_type": "execute_result"
    }
   ],
   "source": [
    "# Check the data type of the Python dictionary\n",
    "type(investor_assets)"
   ]
  },
  {
   "cell_type": "code",
   "execution_count": 3,
   "id": "d265c80f",
   "metadata": {},
   "outputs": [
    {
     "data": {
      "text/plain": [
       "1000"
      ]
     },
     "execution_count": 3,
     "metadata": {},
     "output_type": "execute_result"
    }
   ],
   "source": [
    "#Access specific dictionary values using the keys\n",
    "investor_assets[\"Fixed Income\"]"
   ]
  },
  {
   "cell_type": "code",
   "execution_count": 4,
   "id": "5dda5d9d",
   "metadata": {},
   "outputs": [
    {
     "name": "stdout",
     "output_type": "stream",
     "text": [
      "{'Equity': 5000, 'Fixed Income': 1000, 'Derivatives': 300, 'Alernative Investments': 3000}\n"
     ]
    }
   ],
   "source": [
    "#Investor wishes to add alternative investments to their investment portoflio\n",
    "investor_assets[\"Alernative Investments\"] = 3000\n",
    "print(investor_assets)"
   ]
  },
  {
   "cell_type": "code",
   "execution_count": 5,
   "id": "fe97a263",
   "metadata": {},
   "outputs": [
    {
     "name": "stdout",
     "output_type": "stream",
     "text": [
      "{'Equity': 5000, 'Derivatives': 300, 'Alernative Investments': 3000}\n"
     ]
    }
   ],
   "source": [
    "#Remove an item from the dictionary\n",
    "del investor_assets[\"Fixed Income\"]\n",
    "print(investor_assets)"
   ]
  },
  {
   "cell_type": "markdown",
   "id": "5bd8d835",
   "metadata": {},
   "source": [
    "# Top Tech Stocks"
   ]
  },
  {
   "cell_type": "code",
   "execution_count": 10,
   "id": "8e280981",
   "metadata": {},
   "outputs": [],
   "source": [
    "# Dictionary of top 3 favorite technology stocks with their current prices\n",
    "favourite_tech_stocks = {\n",
    "    \"Apple Inc. (AAPL)\": 178.50,\n",
    "    \"Microsoft Corporation (MSFT)\": 412.30,\n",
    "    \"NVIDIA Corporation (NVDA)\": 725.60\n",
    "}"
   ]
  },
  {
   "cell_type": "code",
   "execution_count": 11,
   "id": "44a6c9bf",
   "metadata": {},
   "outputs": [
    {
     "data": {
      "text/plain": [
       "{'Apple Inc. (AAPL)': 178.5,\n",
       " 'Microsoft Corporation (MSFT)': 412.3,\n",
       " 'NVIDIA Corporation (NVDA)': 725.6}"
      ]
     },
     "execution_count": 11,
     "metadata": {},
     "output_type": "execute_result"
    }
   ],
   "source": [
    "# Display the dictionary\n",
    "favourite_tech_stocks"
   ]
  },
  {
   "cell_type": "code",
   "execution_count": 12,
   "id": "53b5a44b",
   "metadata": {},
   "outputs": [
    {
     "name": "stdout",
     "output_type": "stream",
     "text": [
      "438.8\n"
     ]
    }
   ],
   "source": [
    "# Calculate the average stock price\n",
    "average_price = sum(favourite_tech_stocks.values()) / len(favourite_tech_stocks)\n",
    "print(average_price)"
   ]
  },
  {
   "cell_type": "code",
   "execution_count": 13,
   "id": "13b38ee8",
   "metadata": {},
   "outputs": [
    {
     "name": "stdout",
     "output_type": "stream",
     "text": [
      "438.8\n"
     ]
    }
   ],
   "source": [
    "#Alternative way to compute average stock price\n",
    "print((favourite_tech_stocks[\"Apple Inc. (AAPL)\"] + favourite_tech_stocks[\"Microsoft Corporation (MSFT)\"] + favourite_tech_stocks[\"NVIDIA Corporation (NVDA)\"])/len(favourite_tech_stocks))"
   ]
  },
  {
   "cell_type": "code",
   "execution_count": 16,
   "id": "2e8219f4",
   "metadata": {},
   "outputs": [
    {
     "data": {
      "text/plain": [
       "{'Apple Inc. (AAPL)': 178.5,\n",
       " 'Microsoft Corporation (MSFT)': 412.3,\n",
       " 'NVIDIA Corporation (NVDA)': 725.6,\n",
       " 'Alphabet Inc. (GOOGL)': 145.2,\n",
       " 'Amazon.com Inc. (AMZN)': 165.8}"
      ]
     },
     "execution_count": 16,
     "metadata": {},
     "output_type": "execute_result"
    }
   ],
   "source": [
    "#Add two stocks to dictionary\n",
    "favourite_tech_stocks[\"Alphabet Inc. (GOOGL)\"] = 145.20\n",
    "favourite_tech_stocks[\"Amazon.com Inc. (AMZN)\"] = 165.80\n",
    "favourite_tech_stocks"
   ]
  },
  {
   "cell_type": "code",
   "execution_count": 17,
   "id": "21c1e4d2",
   "metadata": {},
   "outputs": [
    {
     "name": "stdout",
     "output_type": "stream",
     "text": [
      "325.48\n"
     ]
    }
   ],
   "source": [
    "#Calculate new average: method 1\n",
    "average_price = sum(favourite_tech_stocks.values()) / len(favourite_tech_stocks)\n",
    "print(average_price)"
   ]
  },
  {
   "cell_type": "code",
   "execution_count": 18,
   "id": "bf142cd0",
   "metadata": {},
   "outputs": [
    {
     "name": "stdout",
     "output_type": "stream",
     "text": [
      "325.48\n"
     ]
    }
   ],
   "source": [
    "print((favourite_tech_stocks[\"Apple Inc. (AAPL)\"] + favourite_tech_stocks[\"Microsoft Corporation (MSFT)\"] + favourite_tech_stocks[\"NVIDIA Corporation (NVDA)\"] + favourite_tech_stocks[\"Alphabet Inc. (GOOGL)\"] + favourite_tech_stocks[\"Amazon.com Inc. (AMZN)\"])/len(favourite_tech_stocks))"
   ]
  },
  {
   "cell_type": "code",
   "execution_count": null,
   "id": "e6202e88",
   "metadata": {},
   "outputs": [],
   "source": []
  }
 ],
 "metadata": {
  "kernelspec": {
   "display_name": "saturn (Python 3)",
   "language": "python",
   "name": "python3"
  },
  "language_info": {
   "codemirror_mode": {
    "name": "ipython",
    "version": 3
   },
   "file_extension": ".py",
   "mimetype": "text/x-python",
   "name": "python",
   "nbconvert_exporter": "python",
   "pygments_lexer": "ipython3",
   "version": "3.9.14"
  }
 },
 "nbformat": 4,
 "nbformat_minor": 5
}
