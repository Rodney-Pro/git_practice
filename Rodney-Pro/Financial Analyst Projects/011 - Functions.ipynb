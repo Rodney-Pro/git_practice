{
 "cells": [
  {
   "cell_type": "markdown",
   "id": "7059fe20",
   "metadata": {},
   "source": [
    "# Sum Function"
   ]
  },
  {
   "cell_type": "code",
   "execution_count": 1,
   "id": "9165b36c",
   "metadata": {},
   "outputs": [],
   "source": [
    "#Define a sum function\n",
    "def my_sum(x, y):\n",
    "    z = x + y\n",
    "    return z"
   ]
  },
  {
   "cell_type": "code",
   "execution_count": 2,
   "id": "ddfdbb4b",
   "metadata": {},
   "outputs": [
    {
     "data": {
      "text/plain": [
       "10"
      ]
     },
     "execution_count": 2,
     "metadata": {},
     "output_type": "execute_result"
    }
   ],
   "source": [
    "#Call the function\n",
    "my_sum(5,5)"
   ]
  },
  {
   "cell_type": "markdown",
   "id": "50f857a0",
   "metadata": {},
   "source": [
    "# Future Value Function"
   ]
  },
  {
   "cell_type": "code",
   "execution_count": 3,
   "id": "6af56d22",
   "metadata": {},
   "outputs": [],
   "source": [
    "#Define a future value function\n",
    "def compute_FV(PV, i, n, m):\n",
    "    return PV * ( 1 + (i / m)) ** (m * n)"
   ]
  },
  {
   "cell_type": "code",
   "execution_count": 4,
   "id": "bc160d4b",
   "metadata": {},
   "outputs": [
    {
     "name": "stdout",
     "output_type": "stream",
     "text": [
      "Enter the present value: 1000\n",
      "Enter the annual interest rate: 0.1\n",
      "Enter the number of years: 5\n",
      "Enter the number of compounding periods: 12\n"
     ]
    }
   ],
   "source": [
    "#Get user input \n",
    "present_value = float(input(\"Enter the present value: \")) \n",
    "interest = float(input(\"Enter the annual interest rate: \"))\n",
    "num_years = float(input(\"Enter the number of years: \"))\n",
    "compounding_periods = float(input(\"Enter the number of compounding periods: \"))"
   ]
  },
  {
   "cell_type": "code",
   "execution_count": 5,
   "id": "fe96e922",
   "metadata": {},
   "outputs": [],
   "source": [
    "#Set a default value for the parameter\n",
    "def calculate_FV(PV, i, m, n = 5):\n",
    "    return PV * ( 1 + (i / m)) ** (m * n)"
   ]
  },
  {
   "cell_type": "code",
   "execution_count": 6,
   "id": "5cbd981d",
   "metadata": {},
   "outputs": [
    {
     "name": "stdout",
     "output_type": "stream",
     "text": [
      "The FV of $1000.0 after 5.0 years and 12.0 compounding periods per year at 10.0% interest rate = $1645.31\n"
     ]
    }
   ],
   "source": [
    "FV = calculate_FV(present_value, interest, compounding_periods)\n",
    "print('The FV of ${} after {} years and {} compounding periods per year at {}% interest rate = ${}'.format(present_value, \n",
    "                                                                                                     num_years,\n",
    "                                                                                                     compounding_periods,\n",
    "                                                                                                     interest * 100, \n",
    "                                                                                                     round(FV, 2)))"
   ]
  },
  {
   "cell_type": "markdown",
   "id": "24d5f601",
   "metadata": {},
   "source": [
    "# Effective Annual Interest Rate"
   ]
  },
  {
   "cell_type": "code",
   "execution_count": 8,
   "id": "31848bfd",
   "metadata": {},
   "outputs": [],
   "source": [
    "#Define the effective annula interest rate function\n",
    "def effective_annual_rate(i, m):\n",
    "    return ((1 + (i/m)) ** m) - 1"
   ]
  },
  {
   "cell_type": "code",
   "execution_count": 9,
   "id": "964f66f3",
   "metadata": {},
   "outputs": [
    {
     "name": "stdout",
     "output_type": "stream",
     "text": [
      "Enter the total amount you would like to invest today in dollars: 1000\n",
      "Enter the nominal (stated) annual rate of return: 0.1\n",
      "Enter the number of compounding periods per year: 12\n",
      "The effective annual interest rate: 10.47%\n",
      "The total interest earned by the end of the year: $104.7131\n"
     ]
    }
   ],
   "source": [
    "# Obtain user input\n",
    "amount_invested = float(input(\"Enter the total amount you would like to invest today in dollars: \"))\n",
    "nominal_rate = float(input(\"Enter the nominal (stated) annual rate of return: \"))\n",
    "compounding_periods = float(input(\"Enter the number of compounding periods per year: \"))\n",
    "\n",
    "# Call the function\n",
    "effective_rate = effective_annual_rate(nominal_rate, compounding_periods)\n",
    "print('The effective annual interest rate: {}%'.format(round(effective_rate, 4) * 100)) \n",
    "print('The total interest earned by the end of the year: ${}'.format(round(effective_rate * amount_invested, 4))) "
   ]
  },
  {
   "cell_type": "code",
   "execution_count": null,
   "id": "aa37f33c",
   "metadata": {},
   "outputs": [],
   "source": []
  }
 ],
 "metadata": {
  "kernelspec": {
   "display_name": "saturn (Python 3)",
   "language": "python",
   "name": "python3"
  },
  "language_info": {
   "codemirror_mode": {
    "name": "ipython",
    "version": 3
   },
   "file_extension": ".py",
   "mimetype": "text/x-python",
   "name": "python",
   "nbconvert_exporter": "python",
   "pygments_lexer": "ipython3",
   "version": "3.9.14"
  }
 },
 "nbformat": 4,
 "nbformat_minor": 5
}
