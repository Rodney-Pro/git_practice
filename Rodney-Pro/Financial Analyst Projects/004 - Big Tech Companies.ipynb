{
 "cells": [
  {
   "cell_type": "markdown",
   "id": "f5bf2436",
   "metadata": {},
   "source": [
    "# Big Tech Companies"
   ]
  },
  {
   "cell_type": "code",
   "execution_count": 1,
   "id": "91a2d994",
   "metadata": {},
   "outputs": [],
   "source": [
    "# Initializing list of sample companies with their corresponding ticker symbols\n",
    "sample_companies = [\n",
    "    'Apple Inc. (AAPL)',\n",
    "    'NVIDIA Corporation (NVDA)',\n",
    "    'Microsoft Corporation (MSFT)',\n",
    "    'Amazon.com Inc. (AMZN)',\n",
    "    'Alphabet Inc. (GOOGL)'\n",
    "]"
   ]
  },
  {
   "cell_type": "code",
   "execution_count": 2,
   "id": "393968fb",
   "metadata": {},
   "outputs": [
    {
     "data": {
      "text/plain": [
       "['Apple Inc. (AAPL)',\n",
       " 'NVIDIA Corporation (NVDA)',\n",
       " 'Microsoft Corporation (MSFT)',\n",
       " 'Amazon.com Inc. (AMZN)',\n",
       " 'Alphabet Inc. (GOOGL)']"
      ]
     },
     "execution_count": 2,
     "metadata": {},
     "output_type": "execute_result"
    }
   ],
   "source": [
    "# Display the list\n",
    "sample_companies"
   ]
  },
  {
   "cell_type": "code",
   "execution_count": 3,
   "id": "18b10006",
   "metadata": {},
   "outputs": [
    {
     "name": "stdout",
     "output_type": "stream",
     "text": [
      "<class 'list'>\n"
     ]
    }
   ],
   "source": [
    "# Obtain datatype for the list\n",
    "print(type(sample_companies))"
   ]
  },
  {
   "cell_type": "code",
   "execution_count": 4,
   "id": "ae17cd10",
   "metadata": {},
   "outputs": [],
   "source": [
    "# Initializing list with revenues for each company in 2024\n",
    "sample_companies_revenues = [390.43, 60.9, 261.80, 637.96, 350.02]"
   ]
  },
  {
   "cell_type": "code",
   "execution_count": 5,
   "id": "0b0917b0",
   "metadata": {},
   "outputs": [
    {
     "data": {
      "text/plain": [
       "[390.43, 60.9, 261.8, 637.96, 350.02]"
      ]
     },
     "execution_count": 5,
     "metadata": {},
     "output_type": "execute_result"
    }
   ],
   "source": [
    "# Display the revenue list\n",
    "sample_companies_revenues"
   ]
  },
  {
   "cell_type": "code",
   "execution_count": 7,
   "id": "cc20f5c6",
   "metadata": {},
   "outputs": [
    {
     "data": {
      "text/plain": [
       "['NVIDIA Corporation (NVDA)',\n",
       " 'Microsoft Corporation (MSFT)',\n",
       " 'Amazon.com Inc. (AMZN)']"
      ]
     },
     "execution_count": 7,
     "metadata": {},
     "output_type": "execute_result"
    }
   ],
   "source": [
    "# Access specific elements from lists\n",
    "sample_companies[1:4]  # Extracts elements from index 1 to 3"
   ]
  },
  {
   "cell_type": "code",
   "execution_count": 8,
   "id": "db9aeaf0",
   "metadata": {},
   "outputs": [
    {
     "data": {
      "text/plain": [
       "['Microsoft Corporation (MSFT)',\n",
       " 'Amazon.com Inc. (AMZN)',\n",
       " 'Alphabet Inc. (GOOGL)']"
      ]
     },
     "execution_count": 8,
     "metadata": {},
     "output_type": "execute_result"
    }
   ],
   "source": [
    "sample_companies[2:]  # Extracts elements from index 2 to end"
   ]
  },
  {
   "cell_type": "code",
   "execution_count": 9,
   "id": "9912f8b4",
   "metadata": {},
   "outputs": [
    {
     "data": {
      "text/plain": [
       "['Apple Inc. (AAPL)',\n",
       " 'NVIDIA Corporation (NVDA)',\n",
       " 'Microsoft Corporation (MSFT)',\n",
       " 'Amazon.com Inc. (AMZN)',\n",
       " 'Alphabet Inc. (GOOGL)']"
      ]
     },
     "execution_count": 9,
     "metadata": {},
     "output_type": "execute_result"
    }
   ],
   "source": [
    "sample_companies[:]  # Extracts all elements"
   ]
  },
  {
   "cell_type": "code",
   "execution_count": 10,
   "id": "3080ebd5",
   "metadata": {},
   "outputs": [
    {
     "data": {
      "text/plain": [
       "5"
      ]
     },
     "execution_count": 10,
     "metadata": {},
     "output_type": "execute_result"
    }
   ],
   "source": [
    "# Get the length of the list\n",
    "len(sample_companies)"
   ]
  },
  {
   "cell_type": "markdown",
   "id": "5aa6f62c",
   "metadata": {},
   "source": [
    "# Dividend Companies"
   ]
  },
  {
   "cell_type": "code",
   "execution_count": 12,
   "id": "c290ac41",
   "metadata": {},
   "outputs": [],
   "source": [
    "#Initializing list of dividend paying companies\n",
    "dividend_companies = [\n",
    "    'JPMorgan Chase & Co. (JPM)',\n",
    "    'Apple Inc. (AAPL)',\n",
    "    'Microsoft Corporation (MSFT)',\n",
    "    'Alphabet Inc. (GOOGL)',\n",
    "    'Meta Platforms, Inc. (META)',\n",
    "    'Procter & Gamble Co. (PG)',\n",
    "    'Johnson & Johnson (JNJ)',\n",
    "    'Coca-Cola Co. (KO)',\n",
    "    'PepsiCo Inc. (PEP)'\n",
    "]"
   ]
  },
  {
   "cell_type": "code",
   "execution_count": 13,
   "id": "67db9b4b",
   "metadata": {},
   "outputs": [
    {
     "data": {
      "text/plain": [
       "9"
      ]
     },
     "execution_count": 13,
     "metadata": {},
     "output_type": "execute_result"
    }
   ],
   "source": [
    "# Get the length of dividend companies list\n",
    "len(dividend_companies)"
   ]
  },
  {
   "cell_type": "code",
   "execution_count": 15,
   "id": "3fecdf1c",
   "metadata": {},
   "outputs": [
    {
     "name": "stdout",
     "output_type": "stream",
     "text": [
      "JPMorgan Chase & Co. (JPM)\n",
      "Apple Inc. (AAPL)\n",
      "Alphabet Inc. (GOOGL)\n"
     ]
    }
   ],
   "source": [
    "# Print first, second, and fourth elements individually\n",
    "print(dividend_companies[0])  # First element\n",
    "print(dividend_companies[1])  # Second element\n",
    "print(dividend_companies[3])  # Fourth element"
   ]
  },
  {
   "cell_type": "code",
   "execution_count": 18,
   "id": "b030c5ad",
   "metadata": {},
   "outputs": [
    {
     "name": "stdout",
     "output_type": "stream",
     "text": [
      "PepsiCo Inc. (PEP)\n",
      "PepsiCo Inc. (PEP)\n",
      "PepsiCo Inc. (PEP)\n",
      "PepsiCo Inc. (PEP)\n"
     ]
    }
   ],
   "source": [
    "# Print the last element using 4 different methods\n",
    "print(dividend_companies[len(dividend_companies)-1])  # Using len()\n",
    "print(dividend_companies[-1])  # Using negative indexing\n",
    "print(dividend_companies[-1:][0])  # Using slicing\n",
    "print(dividend_companies[8]) #Using manual count"
   ]
  },
  {
   "cell_type": "code",
   "execution_count": 19,
   "id": "c9c4d918",
   "metadata": {},
   "outputs": [
    {
     "name": "stdout",
     "output_type": "stream",
     "text": [
      "['JPMorgan Chase & Co. (JPM)', 'Apple Inc. (AAPL)', 'Microsoft Corporation (MSFT)', 'Alphabet Inc. (GOOGL)', 'Meta Platforms, Inc. (META)', 'Procter & Gamble Co. (PG)', 'Johnson & Johnson (JNJ)', 'Coca-Cola Co. (KO)', 'PepsiCo Inc. (PEP)']\n",
      "['JPMorgan Chase & Co. (JPM)', 'Apple Inc. (AAPL)', 'Microsoft Corporation (MSFT)']\n",
      "['Johnson & Johnson (JNJ)', 'Coca-Cola Co. (KO)', 'PepsiCo Inc. (PEP)']\n"
     ]
    }
   ],
   "source": [
    "# Print all elements, first 3 elements, and last 3 elements\n",
    "print(dividend_companies[:])  # All elements\n",
    "print(dividend_companies[:3])  # First 3 elements\n",
    "print(dividend_companies[-3:])  # Last 3 elements"
   ]
  },
  {
   "cell_type": "code",
   "execution_count": null,
   "id": "92c7eead",
   "metadata": {},
   "outputs": [],
   "source": []
  }
 ],
 "metadata": {
  "kernelspec": {
   "display_name": "Python 3 (ipykernel)",
   "language": "python",
   "name": "python3"
  },
  "language_info": {
   "codemirror_mode": {
    "name": "ipython",
    "version": 3
   },
   "file_extension": ".py",
   "mimetype": "text/x-python",
   "name": "python",
   "nbconvert_exporter": "python",
   "pygments_lexer": "ipython3",
   "version": "3.11.5"
  }
 },
 "nbformat": 4,
 "nbformat_minor": 5
}
