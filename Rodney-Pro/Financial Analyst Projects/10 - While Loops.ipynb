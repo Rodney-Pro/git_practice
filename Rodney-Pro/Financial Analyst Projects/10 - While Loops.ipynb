{
 "cells": [
  {
   "cell_type": "markdown",
   "id": "caaf7e15",
   "metadata": {},
   "source": [
    "# While Loops"
   ]
  },
  {
   "cell_type": "code",
   "execution_count": 36,
   "id": "89e8334f",
   "metadata": {},
   "outputs": [
    {
     "name": "stdout",
     "output_type": "stream",
     "text": [
      "0\n",
      "1\n",
      "2\n",
      "3\n",
      "4\n",
      "5\n"
     ]
    }
   ],
   "source": [
    "#Create a while loop, initialize a counter\n",
    "i = 0 \n",
    "\n",
    "while i <= 5:\n",
    "    print(i)\n",
    "    i += 1"
   ]
  },
  {
   "cell_type": "markdown",
   "id": "6fc30c87",
   "metadata": {},
   "source": [
    "# Future Value"
   ]
  },
  {
   "cell_type": "code",
   "execution_count": 37,
   "id": "948f05e7",
   "metadata": {},
   "outputs": [],
   "source": [
    "#Define Present Value and interest rate\n",
    "PV = 1000\n",
    "i_rate = 0.1"
   ]
  },
  {
   "cell_type": "code",
   "execution_count": 38,
   "id": "242baf4f",
   "metadata": {},
   "outputs": [
    {
     "name": "stdout",
     "output_type": "stream",
     "text": [
      "1100.0\n"
     ]
    }
   ],
   "source": [
    "#Calculate Future Value\n",
    "FV = PV + (i_rate * PV)\n",
    "print(FV)"
   ]
  },
  {
   "cell_type": "markdown",
   "id": "11c7cfa0",
   "metadata": {},
   "source": [
    "# While Loops and Future Values"
   ]
  },
  {
   "cell_type": "code",
   "execution_count": 39,
   "id": "1e422f5c",
   "metadata": {},
   "outputs": [
    {
     "name": "stdout",
     "output_type": "stream",
     "text": [
      "The future value in year 1 is: $1100.0\n",
      "The future value in year 2 is: $1210.0\n",
      "The future value in year 3 is: $1331.0\n"
     ]
    }
   ],
   "source": [
    "#Initialize values for years, amount, and interest rate\n",
    "years = 1 \n",
    "amount = 1000\n",
    "i_rate = 0.1\n",
    "\n",
    "while years <= 3:\n",
    "    amount = amount + (i_rate *amount)\n",
    "    print(\"The future value in year {} is: ${}\".format(years,amount))\n",
    "    years += 1"
   ]
  },
  {
   "cell_type": "markdown",
   "id": "f5b77160",
   "metadata": {},
   "source": [
    "# \"While True\" and Break"
   ]
  },
  {
   "cell_type": "code",
   "execution_count": 40,
   "id": "6073205c",
   "metadata": {},
   "outputs": [
    {
     "name": "stdout",
     "output_type": "stream",
     "text": [
      "Value : 2\n",
      "Value : 4\n",
      "Value : 8\n",
      "Value : 16\n",
      "Value : 32\n",
      "Value : 64\n",
      "Value : 128\n",
      "Value : 256\n",
      "Value : 512\n",
      "Value : 1024\n"
     ]
    }
   ],
   "source": [
    "#Define starting dollar amount\n",
    "x = 1\n",
    "\n",
    "while True:\n",
    "    x = x * 2\n",
    "    print(\"Value : {}\".format(x))\n",
    "    if x > 1000:\n",
    "        break"
   ]
  },
  {
   "cell_type": "markdown",
   "id": "e1fa35fd",
   "metadata": {},
   "source": [
    "# Number of Year and FV with User Input"
   ]
  },
  {
   "cell_type": "code",
   "execution_count": 47,
   "id": "c8abb28b",
   "metadata": {},
   "outputs": [
    {
     "name": "stdout",
     "output_type": "stream",
     "text": [
      "Enter the Present Value: 1000\n",
      "Enter the annual interest rate: 0.1\n",
      "Enter the expected future value: 2000\n"
     ]
    }
   ],
   "source": [
    "#Ask user for input\n",
    "amount = float(input(\"Enter the Present Value: \"))\n",
    "i_rate = float(input(\"Enter the annual interest rate: \"))\n",
    "FV = float(input(\"Enter the expected future value: \"))"
   ]
  },
  {
   "cell_type": "code",
   "execution_count": 48,
   "id": "92dd27cd",
   "metadata": {},
   "outputs": [
    {
     "name": "stdout",
     "output_type": "stream",
     "text": [
      "The Present Value (PV) in year 0 (Now) = $1000.0\n",
      "Future Value (FV) in year 1 = $1100.0\n",
      "Future Value (FV) in year 2 = $1210.0\n",
      "Future Value (FV) in year 3 = $1331.0\n",
      "Future Value (FV) in year 4 = $1464.1\n",
      "Future Value (FV) in year 5 = $1610.5\n",
      "Future Value (FV) in year 6 = $1771.6\n",
      "Future Value (FV) in year 7 = $1948.7\n",
      "Future Value (FV) in year 8 = $2143.6\n",
      "It would take around 8 years to reach a future value greater than 2000.0\n"
     ]
    }
   ],
   "source": [
    "years = 1\n",
    "\n",
    "print('The Present Value (PV) in year 0 (Now) = ${}'.format(round(amount, 1)))\n",
    "\n",
    "\n",
    "while True:\n",
    "    amount = amount + (i_rate * amount)\n",
    "    print('Future Value (FV) in year {} = ${}'.format(years, round(amount, 1)))\n",
    "    \n",
    "    # Condition to break the loop here\n",
    "    if amount > FV:\n",
    "        print('It would take around {} years to reach a future value greater than {}'.format(years, FV))\n",
    "        break\n",
    "    years = years + 1"
   ]
  },
  {
   "cell_type": "code",
   "execution_count": null,
   "id": "1d953722",
   "metadata": {},
   "outputs": [],
   "source": []
  }
 ],
 "metadata": {
  "kernelspec": {
   "display_name": "saturn (Python 3)",
   "language": "python",
   "name": "python3"
  },
  "language_info": {
   "codemirror_mode": {
    "name": "ipython",
    "version": 3
   },
   "file_extension": ".py",
   "mimetype": "text/x-python",
   "name": "python",
   "nbconvert_exporter": "python",
   "pygments_lexer": "ipython3",
   "version": "3.9.14"
  }
 },
 "nbformat": 4,
 "nbformat_minor": 5
}
