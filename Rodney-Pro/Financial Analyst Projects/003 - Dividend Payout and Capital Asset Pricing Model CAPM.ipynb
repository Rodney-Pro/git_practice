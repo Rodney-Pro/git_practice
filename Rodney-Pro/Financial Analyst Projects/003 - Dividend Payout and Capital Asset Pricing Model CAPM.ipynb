{
 "cells": [
  {
   "cell_type": "markdown",
   "id": "6ed86f59",
   "metadata": {},
   "source": [
    "## Display Welcome message"
   ]
  },
  {
   "cell_type": "code",
   "execution_count": 8,
   "id": "20d85487",
   "metadata": {},
   "outputs": [
    {
     "name": "stdout",
     "output_type": "stream",
     "text": [
      "What is your name? Maria\n",
      "Welcome Maria!\n"
     ]
    }
   ],
   "source": [
    "## Get User Input\n",
    "name = input(\"What is your name? \")\n",
    "print(\"Welcome {}!\".format(name))"
   ]
  },
  {
   "cell_type": "markdown",
   "id": "3e13f78c",
   "metadata": {},
   "source": [
    "## Dividend per Share"
   ]
  },
  {
   "cell_type": "code",
   "execution_count": 17,
   "id": "dd8d30f1",
   "metadata": {},
   "outputs": [
    {
     "name": "stdout",
     "output_type": "stream",
     "text": [
      "Enter company name: Apple\n",
      "Enter Sales Revenue: 500000\n",
      "Enter net profit margin (decimal format): 0.5\n",
      "Enter divident payout ratio (decimal format): 0.4\n",
      "Enter the number of outstanding shares: 500000\n"
     ]
    }
   ],
   "source": [
    "#Get user input for sales revenue, net profit margin, dividend payout ratio, and number of shares outstanding\n",
    "company_name = input(\"Enter company name: \")\n",
    "sales_revenue = float(input(\"Enter Sales Revenue: \"))\n",
    "net_profit_margin = float(input(\"Enter net profit margin (decimal format): \"))\n",
    "dividend_payout_ratio = float(input(\"Enter divident payout ratio (decimal format): \"))\n",
    "num_shares_outstanding = float(input(\"Enter the number of outstanding shares: \"))"
   ]
  },
  {
   "cell_type": "code",
   "execution_count": 31,
   "id": "15bb5cdf",
   "metadata": {},
   "outputs": [
    {
     "name": "stdout",
     "output_type": "stream",
     "text": [
      "Apple Dividend Financial Summary Report: \n",
      "Net earnings: $250,000.00\n",
      "Dividends paid: $100,000.00\n",
      "Dividends per Share: $0.20\n"
     ]
    }
   ],
   "source": [
    "#Generate a summary report based on user input\n",
    "print(\"{} Dividend Financial Summary Report: \".format(company_name))\n",
    "\n",
    "#Calculate the company's net earnings\n",
    "net_earnings = sales_revenue * net_profit_margin\n",
    "print(\"Net earnings: ${:,.2f}\".format(net_earnings))\n",
    "\n",
    "#Calculate dividends paid by company\n",
    "dividends_paid = net_earnings * dividend_payout_ratio\n",
    "print(\"Dividends paid: ${:,.2f}\".format(dividends_paid))\n",
    "\n",
    "#Calculate Dividends per Share paid by company\n",
    "div_per_share = dividends_paid / num_shares_outstanding\n",
    "print(\"Dividends per Share: ${:,.2f}\".format(div_per_share))\n"
   ]
  },
  {
   "cell_type": "markdown",
   "id": "e89c7d86",
   "metadata": {},
   "source": [
    "## CAPM Model"
   ]
  },
  {
   "cell_type": "code",
   "execution_count": 34,
   "id": "3c85bcf1",
   "metadata": {},
   "outputs": [
    {
     "name": "stdout",
     "output_type": "stream",
     "text": [
      "Enter company name: P&G\n",
      "Enter stock beta: 5\n",
      "Enter risk_free rate of return in %: 4\n",
      "Enter the expected broad market rate of return in % (Example: S&P 500): 5\n"
     ]
    }
   ],
   "source": [
    "#Get user input for stock beta, risk-free rate of return, broad market return\n",
    "company_name = input(\"Enter company name: \")\n",
    "stock_beta = float(input(\"Enter stock beta: \"))\n",
    "rf_rate = float(input(\"Enter risk_free rate of return in %: \"))\n",
    "broad_market = float(input(\"Enter the expected broad market rate of return in % (Example: S&P 500): \"))"
   ]
  },
  {
   "cell_type": "code",
   "execution_count": 43,
   "id": "ce1bb00a",
   "metadata": {},
   "outputs": [
    {
     "name": "stdout",
     "output_type": "stream",
     "text": [
      "P&G CAPM Expected Rate of Return: 9.00% \n"
     ]
    }
   ],
   "source": [
    "#Generate the expected return of company stock given user input\n",
    "CAPM_return = rf_rate + stock_beta * (broad_market - rf_rate)\n",
    "print(\"{} CAPM Expected Rate of Return: {:,.2f}% \".format(company_name, CAPM_return))"
   ]
  },
  {
   "cell_type": "code",
   "execution_count": null,
   "id": "b39116b8",
   "metadata": {},
   "outputs": [],
   "source": []
  }
 ],
 "metadata": {
  "kernelspec": {
   "display_name": "Python 3 (ipykernel)",
   "language": "python",
   "name": "python3"
  },
  "language_info": {
   "codemirror_mode": {
    "name": "ipython",
    "version": 3
   },
   "file_extension": ".py",
   "mimetype": "text/x-python",
   "name": "python",
   "nbconvert_exporter": "python",
   "pygments_lexer": "ipython3",
   "version": "3.11.5"
  }
 },
 "nbformat": 4,
 "nbformat_minor": 5
}
