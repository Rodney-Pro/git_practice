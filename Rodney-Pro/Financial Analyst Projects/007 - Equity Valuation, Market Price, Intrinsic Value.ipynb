{
 "cells": [
  {
   "cell_type": "markdown",
   "id": "9c8caa77",
   "metadata": {},
   "source": [
    "# Conditional Statements"
   ]
  },
  {
   "cell_type": "code",
   "execution_count": 1,
   "id": "2c90eade",
   "metadata": {},
   "outputs": [
    {
     "name": "stdout",
     "output_type": "stream",
     "text": [
      "Company A generates revenue equal to Company B\n"
     ]
    }
   ],
   "source": [
    "#Use conditional statements to compare company revenue\n",
    "revenue_A = 3000\n",
    "revenue_B = 3000\n",
    "\n",
    "if revenue_A > revenue_B:\n",
    "    print('Company A generates more revenue when compared to Company B')\n",
    "elif revenue_A < revenue_B:\n",
    "    print('Company B generates more revenue when compared to Company A')\n",
    "else:\n",
    "    print('Company A generates revenue equal to Company B')"
   ]
  },
  {
   "cell_type": "markdown",
   "id": "5a5f1dc3",
   "metadata": {},
   "source": [
    "# Odd or Even Numbers"
   ]
  },
  {
   "cell_type": "code",
   "execution_count": 2,
   "id": "0b480c05",
   "metadata": {},
   "outputs": [
    {
     "name": "stdout",
     "output_type": "stream",
     "text": [
      "Enter an integer value from 1 to 1000: 976\n",
      "Number entered is Even\n"
     ]
    }
   ],
   "source": [
    "#Write code to determine if a number if even or odd using the modulo operator\n",
    "user_input = int(input(\"Enter an integer value from 1 to 1000: \"))\n",
    "\n",
    "if user_input % 2 == 0:\n",
    "    print('Number entered is Even')\n",
    "else:\n",
    "    print('Number entered is Odd')"
   ]
  },
  {
   "cell_type": "markdown",
   "id": "a3284f3f",
   "metadata": {},
   "source": [
    "# Username and Password Authentication"
   ]
  },
  {
   "cell_type": "code",
   "execution_count": null,
   "id": "3cae155f",
   "metadata": {},
   "outputs": [],
   "source": [
    "username = input(\"Welcome to Online Banking, please enter you username: \")\n",
    "password = input(\"Please enter your password: \")\n",
    "\n",
    "if username == \"RodneyEdward\" and password = \"JupyterNotebook\":\n",
    "    print(\"Access Granted\")\n",
    "else:\n",
    "    print(\"Access Denied, Please Try Again\")"
   ]
  },
  {
   "cell_type": "markdown",
   "id": "77fbd931",
   "metadata": {},
   "source": [
    "# Dividend Discount Model"
   ]
  },
  {
   "cell_type": "code",
   "execution_count": null,
   "id": "a5fa7b0a",
   "metadata": {},
   "outputs": [],
   "source": [
    "dividend_0 = float(input(\"Please enter company's recent dividend: \"))\n",
    "growth = float(input(\"Please enter the company's expected dividend growth: \"))\n",
    "cost_of_equity = float(input(\"Please enter the company's cost of equity: \"))\n",
    "current_market_price = float(input(\"please enter the company's current stock price: \"))\n",
    "\n",
    "# Calculate next year's dividend \n",
    "dividend_1 = dividend_0 * (1 + growth)\n",
    "\n",
    "# Perform stock valuation using the dividend discount model \n",
    "stock_valuation = dividend_1 / (cost_of_equity - growth) \n",
    "print(\"The company's intrinsic stock value based on the Dividend Discount Model = ${}\".format(round(stock_valuation, 2)))\n",
    "\n",
    "# Compare the stock valuation to the current stock price\n",
    "if current_market_price > stock_valuation:\n",
    "    print(\"Stock is overvalued, do not invest\")\n",
    "    \n",
    "elif current_market_price < stock_valuation:\n",
    "    print(\"Stock is undervalued, invest\")\n",
    "    \n",
    "else:\n",
    "    print(\"Stock is fairly valued\")\n",
    "    "
   ]
  },
  {
   "cell_type": "code",
   "execution_count": null,
   "id": "3b84a922",
   "metadata": {},
   "outputs": [],
   "source": []
  }
 ],
 "metadata": {
  "kernelspec": {
   "display_name": "saturn (Python 3)",
   "language": "python",
   "name": "python3"
  },
  "language_info": {
   "codemirror_mode": {
    "name": "ipython",
    "version": 3
   },
   "file_extension": ".py",
   "mimetype": "text/x-python",
   "name": "python",
   "nbconvert_exporter": "python",
   "pygments_lexer": "ipython3",
   "version": "3.9.14"
  }
 },
 "nbformat": 4,
 "nbformat_minor": 5
}
